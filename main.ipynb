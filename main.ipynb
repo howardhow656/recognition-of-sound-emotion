{
 "cells": [
  {
   "cell_type": "code",
   "execution_count": 11,
   "metadata": {},
   "outputs": [],
   "source": [
    "import numpy as np\n",
    "import pandas as pd\n",
    "import wave \n",
    "import matplotlib.pyplot as plt\n",
    "import librosa\n",
    "import os\n",
    "import module as md\n"
   ]
  },
  {
   "cell_type": "markdown",
   "metadata": {},
   "source": [
    "先把聲音分別輸入到python處理好並分別儲存下來"
   ]
  },
  {
   "cell_type": "code",
   "execution_count": 13,
   "metadata": {},
   "outputs": [
    {
     "ename": "TypeError",
     "evalue": "object of type 'numpy.int16' has no len()",
     "output_type": "error",
     "traceback": [
      "\u001b[1;31m---------------------------------------------------------------------------\u001b[0m",
      "\u001b[1;31mTypeError\u001b[0m                                 Traceback (most recent call last)",
      "Cell \u001b[1;32mIn[13], line 7\u001b[0m\n\u001b[0;32m      4\u001b[0m signal_array , freq , amplitude \u001b[38;5;241m=\u001b[39m md\u001b[38;5;241m.\u001b[39mparams(file)\n\u001b[0;32m      6\u001b[0m \u001b[38;5;28;01mfor\u001b[39;00m i \u001b[38;5;129;01min\u001b[39;00m signal_array:\n\u001b[1;32m----> 7\u001b[0m     nperseg \u001b[38;5;241m=\u001b[39m \u001b[38;5;28mmax\u001b[39m(\u001b[38;5;28;43mlen\u001b[39;49m\u001b[43m(\u001b[49m\u001b[43mi\u001b[49m\u001b[43m)\u001b[49m \u001b[38;5;241m/\u001b[39m\u001b[38;5;241m/\u001b[39m \u001b[38;5;241m2\u001b[39m, \u001b[38;5;241m4\u001b[39m)\n\u001b[0;32m      8\u001b[0m     noverlap \u001b[38;5;241m=\u001b[39m \u001b[38;5;28mmax\u001b[39m(\u001b[38;5;28mlen\u001b[39m(i) \u001b[38;5;241m/\u001b[39m\u001b[38;5;241m/\u001b[39m \u001b[38;5;241m8\u001b[39m, \u001b[38;5;241m1\u001b[39m)\n\u001b[0;32m      9\u001b[0m     \u001b[38;5;28;01mif\u001b[39;00m noverlap \u001b[38;5;241m>\u001b[39m\u001b[38;5;241m=\u001b[39m nperseg:\n",
      "\u001b[1;31mTypeError\u001b[0m: object of type 'numpy.int16' has no len()"
     ]
    }
   ],
   "source": [
    "soundpath  = r\"D:\\使用者\\Desktop\\python\\kaggle competition\\recognition of voice emotion\\archive (3)\\Actor_01\\03-01-01-01-01-01-01.wav\"\n",
    "file = wave.open(soundpath, 'r')\n",
    "fname = os.path.basename(soundpath)\n",
    "signal_array , freq , amplitude = md.params(file)\n",
    "\n",
    "for i in signal_array:\n",
    "    nperseg = max(len(i) // 2, 4)\n",
    "    noverlap = max(len(i) // 8, 1)\n",
    "    if noverlap >= nperseg:\n",
    "        noverlap = nperseg - 1\n",
    "    i = i.astype(float)\n",
    "    Zxx = md.stft(i , freq , nperseg, noverlap , \"hann\")\n",
    "    #計算功率譜\n",
    "    power_spectrogram = np.abs(Zxx) ** 2\n",
    "    mfccs = librosa.feature.mfcc(S=librosa.power_to_db(power_spectrogram), n_mfcc=39)\n",
    "\n",
    "    # delta_mfccs = librosa.feature.delta(mfccs,order=1)\n",
    "    # delta2_mfccs = librosa.feature.delta(mfccs,order=2)\n",
    "    # combined_mfcc = np.concatenate((mfccs, delta_mfccs,delta2_mfccs), axis=1)\n",
    "\n",
    "    # 使用 librosa.display.specshow 将 MFCC 特征绘制成图表\n",
    "    librosa.display.specshow(mfccs, x_axis='time')\n",
    "    #儲存圖片\n",
    "    plt.savefig(r\"D:\\使用者\\Desktop\\python\\coughing_pig-main\\聲音圖\\聲音圖{}.png\".format(fname))\n",
    " "
   ]
  }
 ],
 "metadata": {
  "kernelspec": {
   "display_name": "ds-venv",
   "language": "python",
   "name": "python3"
  },
  "language_info": {
   "codemirror_mode": {
    "name": "ipython",
    "version": 3
   },
   "file_extension": ".py",
   "mimetype": "text/x-python",
   "name": "python",
   "nbconvert_exporter": "python",
   "pygments_lexer": "ipython3",
   "version": "3.11.2"
  }
 },
 "nbformat": 4,
 "nbformat_minor": 2
}
